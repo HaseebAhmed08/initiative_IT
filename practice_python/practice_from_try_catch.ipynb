{
 "cells": [
  {
   "cell_type": "markdown",
   "metadata": {},
   "source": [
    "local variabels"
   ]
  },
  {
   "cell_type": "code",
   "execution_count": 3,
   "metadata": {},
   "outputs": [
    {
     "name": "stdout",
     "output_type": "stream",
     "text": [
      "uper side of function 12\n",
      " number1 in function : 22\n",
      "down side of function  12\n"
     ]
    }
   ],
   "source": [
    "number1 : int = 12\n",
    "print('uper side of function',number1)\n",
    "def change_number():\n",
    "    number1 = 22\n",
    "    print(' number1 in function :',number1)\n",
    "\n",
    "change_number()\n",
    "print('down side of function ',number1)"
   ]
  },
  {
   "cell_type": "markdown",
   "metadata": {},
   "source": [
    "global variable "
   ]
  },
  {
   "cell_type": "code",
   "execution_count": 4,
   "metadata": {},
   "outputs": [
    {
     "name": "stdout",
     "output_type": "stream",
     "text": [
      "uper side of function 12\n",
      " number1 in function : 22\n",
      "down side of function  22\n"
     ]
    }
   ],
   "source": [
    "number1 : int = 12\n",
    "print('uper side of function',number1)\n",
    "def change_number():\n",
    "    global number1\n",
    "    number1 = 22\n",
    "    print(' number1 in function :',number1)\n",
    "change_number()\n",
    "print('down side of function ',number1)"
   ]
  },
  {
   "cell_type": "markdown",
   "metadata": {},
   "source": [
    "Doc string"
   ]
  },
  {
   "cell_type": "code",
   "execution_count": null,
   "metadata": {},
   "outputs": [
    {
     "name": "stdout",
     "output_type": "stream",
     "text": [
      "i \n",
      "am adding two variabels first is num1 and second is num2\n",
      "ok    \n",
      "\n"
     ]
    }
   ],
   "source": [
    "\n"
   ]
  }
 ],
 "metadata": {
  "kernelspec": {
   "display_name": "Python 3",
   "language": "python",
   "name": "python3"
  },
  "language_info": {
   "codemirror_mode": {
    "name": "ipython",
    "version": 3
   },
   "file_extension": ".py",
   "mimetype": "text/x-python",
   "name": "python",
   "nbconvert_exporter": "python",
   "pygments_lexer": "ipython3",
   "version": "3.13.1"
  }
 },
 "nbformat": 4,
 "nbformat_minor": 2
}
