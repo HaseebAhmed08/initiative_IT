{
 "cells": [
  {
   "cell_type": "markdown",
   "metadata": {},
   "source": [
    "local variabels"
   ]
  },
  {
   "cell_type": "code",
   "execution_count": 3,
   "metadata": {},
   "outputs": [
    {
     "name": "stdout",
     "output_type": "stream",
     "text": [
      "uper side of function 12\n",
      " number1 in function : 22\n",
      "down side of function  12\n"
     ]
    }
   ],
   "source": [
    "number1 : int = 12\n",
    "print('uper side of function',number1)\n",
    "def change_number():\n",
    "    number1 = 22\n",
    "    print(' number1 in function :',number1)\n",
    "\n",
    "change_number()\n",
    "print('down side of function ',number1)"
   ]
  },
  {
   "cell_type": "markdown",
   "metadata": {},
   "source": [
    "global variable "
   ]
  },
  {
   "cell_type": "code",
   "execution_count": 4,
   "metadata": {},
   "outputs": [
    {
     "name": "stdout",
     "output_type": "stream",
     "text": [
      "uper side of function 12\n",
      " number1 in function : 22\n",
      "down side of function  22\n"
     ]
    }
   ],
   "source": [
    "number1 : int = 12\n",
    "print('uper side of function',number1)\n",
    "def change_number():\n",
    "    global number1\n",
    "    number1 = 22\n",
    "    print(' number1 in function :',number1)\n",
    "change_number()\n",
    "print('down side of function ',number1)"
   ]
  },
  {
   "cell_type": "markdown",
   "metadata": {},
   "source": [
    "Doc string"
   ]
  },
  {
   "cell_type": "code",
   "execution_count": null,
   "metadata": {},
   "outputs": [
    {
     "name": "stdout",
     "output_type": "stream",
     "text": [
      "i \n",
      "am adding two variabels first is num1 and second is num2\n",
      "ok    \n",
      "\n"
     ]
    }
   ],
   "source": [
    "\n",
    "num1 : int = 2\n",
    "\n",
    "num2: int = 3\n",
    "\n",
    "def adding_values()-> int:\n",
    "    ''' i \n",
    "    am adding two variabels first is num1 and second is num2\n",
    "    ok    \n",
    "    '''\n",
    "    return  num1 + num2\n",
    " \n",
    "\n",
    "value=adding_values()\n",
    "print(adding_values.__doc__)\n",
    "print(value)"
   ]
  },
  {
   "cell_type": "markdown",
   "metadata": {},
   "source": [
    "short hand if else "
   ]
  },
  {
   "cell_type": "code",
   "execution_count": 9,
   "metadata": {},
   "outputs": [
    {
     "name": "stdout",
     "output_type": "stream",
     "text": [
      "19 is greater then 18\n"
     ]
    }
   ],
   "source": [
    "num1: int = 18\n",
    "num2: int = 19\n",
    "\n",
    "print('19 is greater then 18')if num2 > num1 else print('18 is greater then 19')\n",
    "\n",
    "\n"
   ]
  },
  {
   "cell_type": "markdown",
   "metadata": {},
   "source": []
  },
  {
   "cell_type": "markdown",
   "metadata": {},
   "source": [
    "builten Enumrated Function "
   ]
  },
  {
   "cell_type": "code",
   "execution_count": 16,
   "metadata": {},
   "outputs": [
    {
     "name": "stdout",
     "output_type": "stream",
     "text": [
      "names 0:ali\n",
      "names 1:ahmed\n",
      "names 2:jamaal\n",
      "names 3:rehman\n",
      "names 4:kamran\n"
     ]
    }
   ],
   "source": [
    "names : str = ['ali','ahmed','jamaal','rehman','kamran']\n",
    "for index , i in enumerate(names):\n",
    "    print(f'names {index}:{i}')"
   ]
  }
 ],
 "metadata": {
  "kernelspec": {
   "display_name": "Python 3",
   "language": "python",
   "name": "python3"
  },
  "language_info": {
   "codemirror_mode": {
    "name": "ipython",
    "version": 3
   },
   "file_extension": ".py",
   "mimetype": "text/x-python",
   "name": "python",
   "nbconvert_exporter": "python",
   "pygments_lexer": "ipython3",
   "version": "3.13.1"
  }
 },
 "nbformat": 4,
 "nbformat_minor": 2
}
